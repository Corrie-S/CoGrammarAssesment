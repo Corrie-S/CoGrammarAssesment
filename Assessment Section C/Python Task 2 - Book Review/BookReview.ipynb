{
 "cells": [
  {
   "cell_type": "markdown",
   "metadata": {
    "id": "eHGm8RQlK46m"
   },
   "source": [
    "# Get and explore dataset"
   ]
  },
  {
   "cell_type": "code",
   "execution_count": 1,
   "metadata": {
    "ExecuteTime": {
     "end_time": "2020-10-20T11:28:38.843895Z",
     "start_time": "2020-10-20T11:28:37.329067Z"
    },
    "id": "-erlYw1jXtgh"
   },
   "outputs": [],
   "source": [
    "import matplotlib.pyplot as plt\n",
    "from matplotlib import pyplot\n",
    "import seaborn as sn\n",
    "import numpy as np\n",
    "import re\n",
    "from keras.preprocessing.sequence import pad_sequences\n"
   ]
  },
  {
   "cell_type": "code",
   "execution_count": 2,
   "metadata": {
    "ExecuteTime": {
     "end_time": "2020-10-20T11:28:42.788295Z",
     "start_time": "2020-10-20T11:28:42.773693Z"
    },
    "id": "goZIhX8nII4T"
   },
   "outputs": [],
   "source": [
    "# Make results reproducible - set random seed\n",
    "from numpy.random import seed\n",
    "seed(42)"
   ]
  },
  {
   "cell_type": "code",
   "execution_count": 3,
   "metadata": {
    "ExecuteTime": {
     "end_time": "2020-10-20T11:28:45.045430Z",
     "start_time": "2020-10-20T11:28:45.027617Z"
    },
    "id": "v_fEysQHII4W",
    "tags": []
   },
   "outputs": [],
   "source": [
    "negative_file = \"negative.txt\"\n",
    "positive_file = \"positive.txt\""
   ]
  },
  {
   "cell_type": "code",
   "execution_count": 4,
   "metadata": {
    "ExecuteTime": {
     "end_time": "2020-10-20T11:28:45.045430Z",
     "start_time": "2020-10-20T11:28:45.027617Z"
    },
    "colab": {
     "base_uri": "https://localhost:8080/",
     "height": 34
    },
    "id": "sN2HppiozsL5",
    "outputId": "1dcd7919-a256-469b-d46a-d505232ecb4e",
    "tags": []
   },
   "outputs": [
    {
     "name": "stdout",
     "output_type": "stream",
     "text": [
      "Mounted at /content/drive\n"
     ]
    }
   ],
   "source": [
    "# For Google Colab (Only to be run if using Google Colab to get access to Google Drive for data)\n",
    "from google.colab import drive\n",
    "drive.mount('/content/drive')\n",
    "negative_file = \"/content/drive/My Drive/BookData/negative.txt\"\n",
    "positive_file = \"/content/drive/My Drive/BookData/positive.txt\""
   ]
  },
  {
   "cell_type": "code",
   "execution_count": 5,
   "metadata": {
    "ExecuteTime": {
     "end_time": "2020-10-20T11:29:01.210741Z",
     "start_time": "2020-10-20T11:29:01.104732Z"
    },
    "id": "0rWm4yycII4Y",
    "tags": []
   },
   "outputs": [],
   "source": [
    "# Do not modify - helper function to load and preprocess data\n",
    "def filter_words(line):    \n",
    "    line = re.sub(r'[^\\w\\s]','',line.rstrip())\n",
    "    words = line.split(\" \") \n",
    "    words = [i.lower() for i in words if i]      \n",
    "    return \" \".join(words)\n",
    "\n",
    "def load_data(filename):\n",
    "    thefile = open(filename, 'r') \n",
    "    lines = thefile.readlines() \n",
    "\n",
    "    data = []\n",
    "    for l in range(0,len(lines)): \n",
    "        if(lines[l-1].strip() == \"<title>\"): \n",
    "            theline = filter_words(lines[l])\n",
    "            if(len(theline) < 50):\n",
    "                data.append(theline)            \n",
    "            \n",
    "    return data\n",
    "\n",
    "# Helper function to convert categorical data to class label\n",
    "def to_word_label(y):\n",
    "    y = to_class(y)   \n",
    "    return [\"positive\" if i==0 else \"negative\" for i in y]\n",
    "\n",
    "# Helper function to convert class label to numeric label\n",
    "def to_numeric_label(y):\n",
    "  return [0 if i==\"positive\" else 1 for i in word_labels]\n",
    "\n",
    "# Helper function: this function needs to be called before sending arrays to sklearn metrics,\n",
    "# it converts back to class form from categorical form. ie: [1,0] --> 0, [0,1] --> 1\n",
    "def to_class(y):\n",
    "    return np.argmax(y,axis=1) "
   ]
  },
  {
   "cell_type": "code",
   "execution_count": 6,
   "metadata": {
    "ExecuteTime": {
     "end_time": "2020-10-20T11:29:04.452216Z",
     "start_time": "2020-10-20T11:29:04.279880Z"
    },
    "colab": {
     "base_uri": "https://localhost:8080/",
     "height": 71
    },
    "id": "jjGUiFm9II4b",
    "outputId": "b93911be-2127-4b5a-9a51-8dc940899983",
    "tags": []
   },
   "outputs": [
    {
     "name": "stdout",
     "output_type": "stream",
     "text": [
      "['one of the best crichton novels', 'the medicine of the future', 'beautiful', 'for lovers of robicheaux', 'a good book', 'to the point and beautifully illustrated', 'at least somebody has got it', 'beautifully written heartwarming story', 'an excellent cookbook full of delicious recipes', 'an outstanding resource']\n",
      "['horrible book horrible', 'shallow selfindulgence', 'horrible book horrible', 'disappointment', 'a disappointing mess', 'save your money there are better books out there', 'thank you but no thanks', 'unendurable', 'the hard way', 'some good info among the political commercial']\n"
     ]
    }
   ],
   "source": [
    "positive = load_data(positive_file)\n",
    "negative = load_data(negative_file)\n",
    "\n",
    "print(positive[0:10])\n",
    "print(negative[0:10])"
   ]
  },
  {
   "cell_type": "code",
   "execution_count": 7,
   "metadata": {
    "ExecuteTime": {
     "start_time": "2020-10-20T11:29:26.765Z"
    },
    "id": "yrgEYOOCII4d",
    "tags": []
   },
   "outputs": [],
   "source": [
    "# Do not modify - Combines the positive and negative reviews into a single list and create labels\n",
    "data = positive + negative\n",
    "word_labels = [\"positive\"] * len(positive) + [\"negative\"] * len(negative) \n",
    "\n",
    "# Converts labels to numbers in one-hot encoding - [1, 0] (positive) or [0, 1] (negative)\n",
    "from keras.utils import to_categorical\n",
    "labels  = to_categorical(to_numeric_label(word_labels))"
   ]
  },
  {
   "cell_type": "code",
   "execution_count": 8,
   "metadata": {
    "colab": {
     "base_uri": "https://localhost:8080/",
     "height": 520
    },
    "id": "97Uh2uBpII4l",
    "outputId": "87d71f7c-ece5-46f8-e311-715aa215895d",
    "tags": []
   },
   "outputs": [
    {
     "name": "stdout",
     "output_type": "stream",
     "text": [
      "Max Review Size: 49 characters.\n",
      "Min Review Size: 2 characters.\n",
      "Mean Review Size: 25 characters.\n",
      "25th Review Size Percentile: 16 characters.\n",
      "75th Review Size Percentile: 33 characters.\n",
      "Review Size Standard Deviation: 11.28 characters.\n"
     ]
    },
    {
     "data": {
      "image/png": "[encoded data removed]",
      "text/plain": [
       "<Figure size 432x288 with 1 Axes>"
      ]
     },
     "metadata": {
      "needs_background": "light",
      "tags": []
     },
     "output_type": "display_data"
    },
    {
     "name": "stdout",
     "output_type": "stream",
     "text": [
      "There are 7776 words in the data set.\n",
      "There are 1793 reviews in the dataset with 872 positive and 921 negative reviews.\n",
      "This give us 48.6% Positive and 51.4% Negative Reviews.\n",
      "\n",
      "There are 1490 unique word in the positive reviews. Here is the Top 10\n",
      "[('a', 173), ('the', 157), ('book', 108), ('of', 95), ('and', 82), ('great', 63), ('to', 62), ('for', 59), ('read', 49), ('good', 44)]\n",
      "\n",
      "There are 1517 unique word in the negative reviews. Here is the Top 10:\n",
      "[('the', 133), ('a', 129), ('not', 93), ('of', 82), ('and', 80), ('book', 78), ('for', 64), ('this', 62), ('is', 48), ('to', 47)]\n"
     ]
    }
   ],
   "source": [
    "# Write some code to investigate the dataset. \n",
    "# - Calculate and report the mean review size, its standard deviation and create a boxplot.\n",
    "review_size_list = [len(review) for review in data]\n",
    "print(f\"Max Review Size: {np.amax(review_size_list)} characters.\")\n",
    "print(f\"Min Review Size: {np.amin(review_size_list)} characters.\")\n",
    "print(f\"Mean Review Size: {sum(review_size_list) / len(data):.0f} characters.\")\n",
    "print(f\"25th Review Size Percentile: {np.percentile(review_size_list,25):.0f} characters.\")\n",
    "print(f\"75th Review Size Percentile: {np.percentile(review_size_list,75):.0f} characters.\")\n",
    "print(f\"Review Size Standard Deviation: {np.std(review_size_list):.2f} characters.\")\n",
    "plt.boxplot(review_size_list)\n",
    "plt.show()\n",
    "\n",
    "# - Calculate the number of words in the dataset\n",
    "word_count = 0\n",
    "for review in data:\n",
    "  word_count += len(re.findall(r'\\w+', review))\n",
    "print(f\"There are {word_count} words in the data set.\")\n",
    "\n",
    "# - Perform any other dataset investigation that you feel would be valuable\n",
    "print(f\"There are {len(data)} reviews in the dataset with {len(positive)} positive and {len(negative)} negative reviews.\")\n",
    "print(f\"This give us {(len(positive) / len(data)) * 100:.1f}% Positive and {(len(negative) / len(data)) * 100:.1f}% Negative Reviews.\")\n",
    "\n",
    "\n",
    "\n",
    "# Count the occurence of each unique word in Positive reviews\n",
    "positive_word_dict = {}\n",
    "for review in positive:\n",
    "  wordlist = review.split()\n",
    "  for word in wordlist:\n",
    "    if word in positive_word_dict:\n",
    "      positive_word_dict[word] += 1\n",
    "    else:\n",
    "      positive_word_dict[word] = 1\n",
    "\n",
    "# Count the occurance of each unique word in Negative Reviews\n",
    "negative_word_dict = {}\n",
    "for review in negative:\n",
    "  wordlist = review.split()\n",
    "  for word in wordlist:\n",
    "    if word in negative_word_dict:\n",
    "      negative_word_dict[word] += 1\n",
    "    else:\n",
    "      negative_word_dict[word] = 1\n",
    "\n",
    "print(f\"\\nThere are {len(positive_word_dict)} unique word in the positive reviews. Here is the Top 10\")\n",
    "print(sorted(positive_word_dict.items(), key=lambda x: x[1], reverse=True)[0:10])\n",
    "print(f\"\\nThere are {len(negative_word_dict)} unique word in the negative reviews. Here is the Top 10:\")\n",
    "print(sorted(negative_word_dict.items(), key=lambda x: x[1], reverse=True)[0:10])\n",
    " "
   ]
  },
  {
   "cell_type": "code",
   "execution_count": 9,
   "metadata": {
    "colab": {
     "base_uri": "https://localhost:8080/",
     "height": 51
    },
    "id": "_XXnArgcII4i",
    "outputId": "74b6dc2d-26b1-49d4-dc69-8fd6bda6d6b1",
    "tags": []
   },
   "outputs": [
    {
     "name": "stdout",
     "output_type": "stream",
     "text": [
      "['one of the best crichton novels', 'the medicine of the future', 'beautiful', 'for lovers of robicheaux', 'a good book']\n",
      "[[18, 4, 2, 19], [2, 4, 2], [], [6, 4], [1, 12, 3]]\n"
     ]
    }
   ],
   "source": [
    "# Do not modify - Tokenize the vocabulary \n",
    "from keras.preprocessing.text import Tokenizer\n",
    "\n",
    "tokenizer = Tokenizer(num_words=25)\n",
    "\n",
    "tokenizer.fit_on_texts(data) #create the vocabularry\n",
    "\n",
    "tokenized_data = tokenizer.texts_to_sequences(data) #tokenize the data using the vocabulary\n",
    "\n",
    "vocab_size = len(tokenizer.word_index) + 1 \n",
    "\n",
    "# Compare a sample of the data before and after tokenization\n",
    "print(data[0:5])\n",
    "print(tokenized_data[0:5])"
   ]
  },
  {
   "cell_type": "markdown",
   "metadata": {
    "id": "_vsMmLjdK1Gf"
   },
   "source": [
    "# Pre-processing"
   ]
  },
  {
   "cell_type": "code",
   "execution_count": 10,
   "metadata": {
    "colab": {
     "base_uri": "https://localhost:8080/",
     "height": 136
    },
    "id": "24DaXd1zII4q",
    "outputId": "2a20cae3-b7fa-4525-fcc9-67def8fb3231",
    "tags": []
   },
   "outputs": [
    {
     "name": "stdout",
     "output_type": "stream",
     "text": [
      "Average words per review: 4.34\n",
      "Maximum words per review: 12\n",
      "Average tokens per review: 1.32\n",
      "Maximum tokens per review: 7\n",
      "\n",
      "Number of occurences of each number of tokens per review:\n",
      "(array([0, 1, 2, 3, 4, 5, 6, 7]), array([545, 581, 360, 203,  64,  32,   7,   1]))\n"
     ]
    }
   ],
   "source": [
    "# Pre-processing\n",
    "# Write some code to pre-process the data so that each review is the same length\n",
    "# Count Words per Review and calculate mean and max\n",
    "\n",
    "# See Note below \n",
    "\n",
    "words_per_review = [len(review.split()) for review in data]\n",
    "print(f\"Average words per review: {sum(words_per_review) / len(data):.2f}\")\n",
    "print(f\"Maximum words per review: {np.amax(words_per_review):.0f}\")\n",
    "\n",
    "tokens_per_review = [len(review) for review in tokenized_data]\n",
    "print(f\"Average tokens per review: {sum(tokens_per_review) / len(tokenized_data):.2f}\")\n",
    "print(f\"Maximum tokens per review: {np.amax(tokens_per_review):.0f}\")\n",
    "print(\"\\nNumber of occurences of each number of tokens per review:\")\n",
    "print(np.unique(tokens_per_review, return_counts=True))\n",
    "\n",
    "maxlen = 5\n",
    "\n",
    "processed_data = pad_sequences(tokenized_data, maxlen=maxlen, dtype='int32', padding='post', truncating='post', value=0)\n",
    "\n"
   ]
  },
  {
   "cell_type": "markdown",
   "metadata": {
    "id": "RVDu3s2zjTla"
   },
   "source": [
    "** Note: **\n",
    "\n",
    "Contrary to the instructions in the pdf document, the average of words per review is ~4 with a max of 12. \n",
    "\n",
    "The mojority of tokens per review is 5 or less, therefor we are padding/truncating the tokenized data to 5 per review. Almost 2/3 of these have 0 tokens which will have an impact on accuracy of the model. It was not specified if these should be ignored, thus they are left as part of the data.\n"
   ]
  },
  {
   "cell_type": "code",
   "execution_count": 11,
   "metadata": {
    "id": "AFTJcFy6II4s",
    "tags": []
   },
   "outputs": [],
   "source": [
    "# Write some code to split the data into a training and test set. Make sure you shuffle the data. Use 20% for the test set.\n",
    "from sklearn.model_selection import train_test_split\n",
    "X_train, X_test, y_train, y_test = train_test_split(processed_data, labels, test_size=0.2, shuffle=True)\n"
   ]
  },
  {
   "cell_type": "code",
   "execution_count": 12,
   "metadata": {
    "id": "lDth1BSzII4u"
   },
   "outputs": [],
   "source": [
    "\n",
    "from sklearn.metrics import confusion_matrix, precision_score, recall_score, f1_score\n",
    "\n",
    "# Fill in the following function so it\n",
    "# - makes a prediction for the test set given the model\n",
    "# - reports the precision, recall and f1 score. Also print the confusion matrix. \n",
    "# You will need to use the helper to_class function to convert y_pred and y_test before supplying them to the sklearn functions.\n",
    "\n",
    "def assess_model(model, X_test, y_test):      \n",
    "    y_pred = model.predict(X_test)\n",
    "    # Convert to classes\n",
    "    y_pred_class = to_class(y_pred)\n",
    "    y_test_class = to_class(y_test)\n",
    "    #Display Metrics\n",
    "    print(f\"F1 Score        : {f1_score(y_test_class, y_pred_class):.3f}\")\n",
    "    print(f\"Precision Score : {precision_score(y_test_class, y_pred_class):.3f}\")\n",
    "    print(f\"Recall Score    : {recall_score(y_test_class, y_pred_class):.3f}\")\n",
    "    print(\"\\n\\nConfusion Matrix\\n\\n\")\n",
    "    # Calculate Confusion Matrix    \n",
    "    cm = confusion_matrix(y_test_class, y_pred_class)\n",
    "    #Plot Confusion matrix using seaborn\n",
    "    sn.set(font_scale=2)\n",
    "    sn.heatmap(cm, \n",
    "               annot=True, \n",
    "               annot_kws={\"size\": 15}, \n",
    "               xticklabels=[\"True False\",\"True Positive\"], \n",
    "               yticklabels=[\"Predicted False\",\"Predicted Positive\"], \n",
    "               square=True,\n",
    "               cmap=\"Blues\")\n",
    "    plt.show()\n"
   ]
  },
  {
   "cell_type": "markdown",
   "metadata": {
    "id": "nTqLbbE6MpGt"
   },
   "source": [
    "# Build and tune model"
   ]
  },
  {
   "cell_type": "markdown",
   "metadata": {
    "id": "3X70rA4uMXNv"
   },
   "source": [
    "Define network architecture"
   ]
  },
  {
   "cell_type": "code",
   "execution_count": 13,
   "metadata": {
    "id": "wKoXWKG4II5F"
   },
   "outputs": [],
   "source": [
    "import tensorflow as tf\n",
    "from tensorflow import keras\n",
    "from tensorflow.keras import layers\n",
    "\n",
    "def define_model(od=32):\n",
    "  model = keras.Sequential()\n",
    "  model.add(layers.Embedding(input_dim=vocab_size, output_dim=od))\n",
    "  model.add(layers.SpatialDropout1D(rate=0.2))\n",
    "  model.add(layers.BatchNormalization())\n",
    "  model.add(layers.LSTM(units=32))\n",
    "  model.add(layers.Dense(units=2, activation='softmax'))\n",
    "  model.compile(optimizer='adam', loss='binary_crossentropy', metrics=['accuracy'])\n",
    "  model.summary()\n",
    "  return model"
   ]
  },
  {
   "cell_type": "markdown",
   "metadata": {
    "id": "llS0-VKBMbz-"
   },
   "source": [
    "Train model"
   ]
  },
  {
   "cell_type": "code",
   "execution_count": 14,
   "metadata": {
    "id": "F5IJs0QuMe_I"
   },
   "outputs": [],
   "source": [
    "# Define parameter to use\n",
    "epoch = 5\n",
    "out_dim_list = [10,25,32,50,100]\n",
    "\n",
    "def train_model():\n",
    "  model.fit(X_train, y_train, epochs=epoch, batch_size=10)"
   ]
  },
  {
   "cell_type": "code",
   "execution_count": 15,
   "metadata": {
    "id": "-VGIc_GkvnEA"
   },
   "outputs": [],
   "source": [
    "# Only run once before training and tuning model\n",
    "cvscores = []"
   ]
  },
  {
   "cell_type": "code",
   "execution_count": 16,
   "metadata": {
    "id": "eBVogHg2II5T",
    "tags": []
   },
   "outputs": [],
   "source": [
    "def store_metrics(output_dim):\n",
    "  # Run after every model train to add results and compare afterwards\n",
    "  scores = model.evaluate(X_test, y_test, verbose=0)\n",
    "  cvscores.append([output_dim, epoch, scores[1], scores[0]])\n",
    "\n",
    "\n"
   ]
  },
  {
   "cell_type": "code",
   "execution_count": 17,
   "metadata": {
    "colab": {
     "base_uri": "https://localhost:8080/",
     "height": 1000
    },
    "id": "hogQSwzVaxSn",
    "outputId": "8288cdbc-bbc5-4ef4-8e8f-79dfabc5e17d"
   },
   "outputs": [
    {
     "name": "stdout",
     "output_type": "stream",
     "text": [
      "Model: \"sequential\"\n",
      "_________________________________________________________________\n",
      "Layer (type)                 Output Shape              Param #   \n",
      "=================================================================\n",
      "embedding (Embedding)        (None, None, 10)          25600     \n",
      "_________________________________________________________________\n",
      "spatial_dropout1d (SpatialDr (None, None, 10)          0         \n",
      "_________________________________________________________________\n",
      "batch_normalization (BatchNo (None, None, 10)          40        \n",
      "_________________________________________________________________\n",
      "lstm (LSTM)                  (None, 32)                5504      \n",
      "_________________________________________________________________\n",
      "dense (Dense)                (None, 2)                 66        \n",
      "=================================================================\n",
      "Total params: 31,210\n",
      "Trainable params: 31,190\n",
      "Non-trainable params: 20\n",
      "_________________________________________________________________\n",
      "Epoch 1/5\n",
      "144/144 [==============================] - 1s 4ms/step - loss: 0.6869 - accuracy: 0.5537\n",
      "Epoch 2/5\n",
      "144/144 [==============================] - 1s 4ms/step - loss: 0.6584 - accuracy: 0.5865\n",
      "Epoch 3/5\n",
      "144/144 [==============================] - 1s 4ms/step - loss: 0.6491 - accuracy: 0.6269\n",
      "Epoch 4/5\n",
      "144/144 [==============================] - 1s 4ms/step - loss: 0.6390 - accuracy: 0.6262\n",
      "Epoch 5/5\n",
      "144/144 [==============================] - 1s 4ms/step - loss: 0.6399 - accuracy: 0.6179\n",
      "Model: \"sequential_1\"\n",
      "_________________________________________________________________\n",
      "Layer (type)                 Output Shape              Param #   \n",
      "=================================================================\n",
      "embedding_1 (Embedding)      (None, None, 25)          64000     \n",
      "_________________________________________________________________\n",
      "spatial_dropout1d_1 (Spatial (None, None, 25)          0         \n",
      "_________________________________________________________________\n",
      "batch_normalization_1 (Batch (None, None, 25)          100       \n",
      "_________________________________________________________________\n",
      "lstm_1 (LSTM)                (None, 32)                7424      \n",
      "_________________________________________________________________\n",
      "dense_1 (Dense)              (None, 2)                 66        \n",
      "=================================================================\n",
      "Total params: 71,590\n",
      "Trainable params: 71,540\n",
      "Non-trainable params: 50\n",
      "_________________________________________________________________\n",
      "Epoch 1/5\n",
      "144/144 [==============================] - 1s 5ms/step - loss: 0.6886 - accuracy: 0.5495\n",
      "Epoch 2/5\n",
      "144/144 [==============================] - 1s 4ms/step - loss: 0.6609 - accuracy: 0.5990\n",
      "Epoch 3/5\n",
      "144/144 [==============================] - 1s 4ms/step - loss: 0.6478 - accuracy: 0.5983\n",
      "Epoch 4/5\n",
      "144/144 [==============================] - 1s 4ms/step - loss: 0.6419 - accuracy: 0.6241\n",
      "Epoch 5/5\n",
      "144/144 [==============================] - 1s 4ms/step - loss: 0.6276 - accuracy: 0.6332\n",
      "Model: \"sequential_2\"\n",
      "_________________________________________________________________\n",
      "Layer (type)                 Output Shape              Param #   \n",
      "=================================================================\n",
      "embedding_2 (Embedding)      (None, None, 32)          81920     \n",
      "_________________________________________________________________\n",
      "spatial_dropout1d_2 (Spatial (None, None, 32)          0         \n",
      "_________________________________________________________________\n",
      "batch_normalization_2 (Batch (None, None, 32)          128       \n",
      "_________________________________________________________________\n",
      "lstm_2 (LSTM)                (None, 32)                8320      \n",
      "_________________________________________________________________\n",
      "dense_2 (Dense)              (None, 2)                 66        \n",
      "=================================================================\n",
      "Total params: 90,434\n",
      "Trainable params: 90,370\n",
      "Non-trainable params: 64\n",
      "_________________________________________________________________\n",
      "Epoch 1/5\n",
      "144/144 [==============================] - 1s 5ms/step - loss: 0.6883 - accuracy: 0.5265\n",
      "Epoch 2/5\n",
      "144/144 [==============================] - 1s 5ms/step - loss: 0.6583 - accuracy: 0.6095\n",
      "Epoch 3/5\n",
      "144/144 [==============================] - 1s 5ms/step - loss: 0.6499 - accuracy: 0.6123\n",
      "Epoch 4/5\n",
      "144/144 [==============================] - 1s 5ms/step - loss: 0.6396 - accuracy: 0.6151\n",
      "Epoch 5/5\n",
      "144/144 [==============================] - 1s 5ms/step - loss: 0.6382 - accuracy: 0.6262\n",
      "Model: \"sequential_3\"\n",
      "_________________________________________________________________\n",
      "Layer (type)                 Output Shape              Param #   \n",
      "=================================================================\n",
      "embedding_3 (Embedding)      (None, None, 50)          128000    \n",
      "_________________________________________________________________\n",
      "spatial_dropout1d_3 (Spatial (None, None, 50)          0         \n",
      "_________________________________________________________________\n",
      "batch_normalization_3 (Batch (None, None, 50)          200       \n",
      "_________________________________________________________________\n",
      "lstm_3 (LSTM)                (None, 32)                10624     \n",
      "_________________________________________________________________\n",
      "dense_3 (Dense)              (None, 2)                 66        \n",
      "=================================================================\n",
      "Total params: 138,890\n",
      "Trainable params: 138,790\n",
      "Non-trainable params: 100\n",
      "_________________________________________________________________\n",
      "Epoch 1/5\n",
      "144/144 [==============================] - 1s 6ms/step - loss: 0.6901 - accuracy: 0.5502\n",
      "Epoch 2/5\n",
      "144/144 [==============================] - 1s 6ms/step - loss: 0.6628 - accuracy: 0.5858\n",
      "Epoch 3/5\n",
      "144/144 [==============================] - 1s 6ms/step - loss: 0.6472 - accuracy: 0.6046\n",
      "Epoch 4/5\n",
      "144/144 [==============================] - 1s 6ms/step - loss: 0.6392 - accuracy: 0.6165\n",
      "Epoch 5/5\n",
      "144/144 [==============================] - 1s 6ms/step - loss: 0.6314 - accuracy: 0.6353\n",
      "Model: \"sequential_4\"\n",
      "_________________________________________________________________\n",
      "Layer (type)                 Output Shape              Param #   \n",
      "=================================================================\n",
      "embedding_4 (Embedding)      (None, None, 100)         256000    \n",
      "_________________________________________________________________\n",
      "spatial_dropout1d_4 (Spatial (None, None, 100)         0         \n",
      "_________________________________________________________________\n",
      "batch_normalization_4 (Batch (None, None, 100)         400       \n",
      "_________________________________________________________________\n",
      "lstm_4 (LSTM)                (None, 32)                17024     \n",
      "_________________________________________________________________\n",
      "dense_4 (Dense)              (None, 2)                 66        \n",
      "=================================================================\n",
      "Total params: 273,490\n",
      "Trainable params: 273,290\n",
      "Non-trainable params: 200\n",
      "_________________________________________________________________\n",
      "Epoch 1/5\n",
      "144/144 [==============================] - 1s 7ms/step - loss: 0.6917 - accuracy: 0.5446\n",
      "Epoch 2/5\n",
      "144/144 [==============================] - 1s 8ms/step - loss: 0.6634 - accuracy: 0.5955\n",
      "Epoch 3/5\n",
      "144/144 [==============================] - 1s 8ms/step - loss: 0.6479 - accuracy: 0.6109\n",
      "Epoch 4/5\n",
      "144/144 [==============================] - 1s 8ms/step - loss: 0.6404 - accuracy: 0.6067\n",
      "Epoch 5/5\n",
      "144/144 [==============================] - 1s 7ms/step - loss: 0.6333 - accuracy: 0.6269\n"
     ]
    }
   ],
   "source": [
    "for outdim in out_dim_list:\n",
    "  model = define_model(outdim)\n",
    "  train_model()\n",
    "  store_metrics(outdim)"
   ]
  },
  {
   "cell_type": "markdown",
   "metadata": {
    "id": "rniBBEiyMRKD"
   },
   "source": [
    "Examine performance of model"
   ]
  },
  {
   "cell_type": "code",
   "execution_count": 18,
   "metadata": {
    "colab": {
     "base_uri": "https://localhost:8080/",
     "height": 136
    },
    "id": "EzcWZWPmar6k",
    "outputId": "b5461a55-4135-461e-a6b1-255c935f5e4f"
   },
   "outputs": [
    {
     "name": "stdout",
     "output_type": "stream",
     "text": [
      "Epochs | Accuracy | Loss  | OP_Dim\n",
      "----------------------------------\n",
      "    5  |  59.89%  | 0.6594|   10\n",
      "    5  |  60.72%  | 0.6701|   25\n",
      "    5  |  59.89%  | 0.6622|   32\n",
      "    5  |  60.17%  | 0.6598|   50\n",
      "    5  |  60.72%  | 0.6566|  100\n"
     ]
    }
   ],
   "source": [
    "  print(\"Epochs | Accuracy | Loss  | OP_Dim\\n----------------------------------\")\n",
    "  for i in range(len(cvscores)):\n",
    "    print(f\" {cvscores[i][1]:4}  |{cvscores[i][2] * 100:7.2f}%  |{cvscores[i][3]:7.4f}|{cvscores[i][0]:5}\")"
   ]
  },
  {
   "cell_type": "code",
   "execution_count": 19,
   "metadata": {
    "colab": {
     "base_uri": "https://localhost:8080/",
     "height": 533
    },
    "id": "bg_I638QWXwO",
    "outputId": "8d4c405b-ce0f-416c-f6f6-069db72583c2"
   },
   "outputs": [
    {
     "name": "stdout",
     "output_type": "stream",
     "text": [
      "F1 Score        : 0.679\n",
      "Precision Score : 0.582\n",
      "Recall Score    : 0.814\n",
      "\n",
      "\n",
      "Confusion Matrix\n",
      "\n",
      "\n"
     ]
    },
    {
     "data": {
      "image/png": "[encoded data removed]",
      "text/plain": [
       "<Figure size 432x288 with 2 Axes>"
      ]
     },
     "metadata": {
      "tags": []
     },
     "output_type": "display_data"
    }
   ],
   "source": [
    "assess_model(model, X_test, y_test)"
   ]
  },
  {
   "cell_type": "markdown",
   "metadata": {
    "id": "HB8kzt-IME4U"
   },
   "source": [
    "Plot graphs for accuracy and loss"
   ]
  },
  {
   "cell_type": "code",
   "execution_count": 20,
   "metadata": {
    "colab": {
     "base_uri": "https://localhost:8080/",
     "height": 494
    },
    "id": "hPyJ78unMJUI",
    "outputId": "14cffbee-caf2-427d-9441-6ec9b573b552"
   },
   "outputs": [
    {
     "data": {
      "image/png": "[encoded data removed]",
      "text/plain": [
       "<Figure size 720x504 with 1 Axes>"
      ]
     },
     "metadata": {
      "tags": []
     },
     "output_type": "display_data"
    }
   ],
   "source": [
    "eps, acc, loss = [], [], []\n",
    "for i in range(len(cvscores)):\n",
    "  eps.append(cvscores[i][0])\n",
    "  acc.append(cvscores[i][2])\n",
    "  loss.append(cvscores[i][3])\n",
    "plt.figure(figsize=(10,7))\n",
    "plt.plot(eps, acc, label=\"Accuracy\")\n",
    "plt.plot(eps, loss, label=\"loss\")\n",
    "plt.xlabel('Op Dimensions')\n",
    "plt.title('Accuracy and loss for n Op Dimesions')\n",
    "plt.legend()\n",
    "plt.show()\n"
   ]
  },
  {
   "cell_type": "markdown",
   "metadata": {
    "id": "eAZ1LyFBMLoK"
   },
   "source": [
    "# Make a prediction"
   ]
  },
  {
   "cell_type": "code",
   "execution_count": 21,
   "metadata": {
    "id": "vfPM5LokII5V",
    "tags": []
   },
   "outputs": [],
   "source": [
    "# This is a very small set of completed new data to use to make predictions.\n",
    "prediction_data = [\"this book is fabulous\",\"i hated this book\", \"the best\", \"no good\", \"okay\"]\n",
    "tokenized = tokenizer.texts_to_sequences(prediction_data)\n",
    "padded = pad_sequences(tokenized, padding='post', maxlen=maxlen)\n",
    "\n",
    "# Supply this data to each of your models and see how it does. \n",
    "# You can call the helper function \"to_word_label\" to map the output of the model to the name of the\n",
    "# class it was predicted to belong to.\n",
    "\n",
    "y_pred = model.predict(padded)\n"
   ]
  },
  {
   "cell_type": "code",
   "execution_count": 23,
   "metadata": {
    "colab": {
     "base_uri": "https://localhost:8080/",
     "height": 34
    },
    "id": "k1qbxIuYiN0w",
    "outputId": "9668ebbf-5db7-4f5d-bb64-bacf58f68b51"
   },
   "outputs": [
    {
     "name": "stdout",
     "output_type": "stream",
     "text": [
      "['this book is fabulous', 'i hated this book', 'the best', 'no good', 'okay'] ['negative', 'negative', 'positive', 'positive', 'negative']\n"
     ]
    }
   ],
   "source": [
    "# View predicted data\n",
    "print(prediction_data, to_word_label(y_pred))"
   ]
  }
 ],
 "metadata": {
  "colab": {
   "collapsed_sections": [],
   "name": "BookReview.ipynb",
   "provenance": []
  },
  "kernelspec": {
   "display_name": "Python 3",
   "language": "python",
   "name": "python3"
  },
  "language_info": {
   "codemirror_mode": {
    "name": "ipython",
    "version": 3
   },
   "file_extension": ".py",
   "mimetype": "text/x-python",
   "name": "python",
   "nbconvert_exporter": "python",
   "pygments_lexer": "ipython3",
   "version": "3.5.3"
  },
  "varInspector": {
   "cols": {
    "lenName": 16,
    "lenType": 16,
    "lenVar": 40
   },
   "kernels_config": {
    "python": {
     "delete_cmd_postfix": "",
     "delete_cmd_prefix": "del ",
     "library": "var_list.py",
     "varRefreshCmd": "print(var_dic_list())"
    },
    "r": {
     "delete_cmd_postfix": ") ",
     "delete_cmd_prefix": "rm(",
     "library": "var_list.r",
     "varRefreshCmd": "cat(var_dic_list()) "
    }
   },
   "types_to_exclude": [
    "module",
    "function",
    "builtin_function_or_method",
    "instance",
    "_Feature"
   ],
   "window_display": false
  }
 },
 "nbformat": 4,
 "nbformat_minor": 1
}
